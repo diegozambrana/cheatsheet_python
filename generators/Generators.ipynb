{
 "cells": [
  {
   "cell_type": "markdown",
   "id": "ed5a20c8-9f60-4bb4-850d-3b5074130200",
   "metadata": {},
   "source": [
    "## Generators"
   ]
  },
  {
   "cell_type": "code",
   "execution_count": 6,
   "id": "9585ea4b-3944-4bb0-8ee2-d59d18b1d6fb",
   "metadata": {},
   "outputs": [
    {
     "data": {
      "text/plain": [
       "<generator object infinite_sequence at 0x7f84158b6ac0>"
      ]
     },
     "execution_count": 6,
     "metadata": {},
     "output_type": "execute_result"
    }
   ],
   "source": [
    "def infinite_sequence():\n",
    "    num = 0\n",
    "    while True:\n",
    "        yield num\n",
    "        num += 1\n",
    "#for i in range(10):\n",
    "infinite_sequence()"
   ]
  },
  {
   "cell_type": "code",
   "execution_count": 2,
   "id": "88d62388-f00a-41dc-892f-5517b494fd99",
   "metadata": {},
   "outputs": [
    {
     "data": {
      "text/plain": [
       "99900000999"
      ]
     },
     "execution_count": 2,
     "metadata": {},
     "output_type": "execute_result"
    }
   ],
   "source": [
    "# Palindromes\n",
    "\n",
    "def is_palindrome(num):\n",
    "    # Skip single-digit inputs\n",
    "    if num // 10 == 0:\n",
    "        return False\n",
    "    temp = num\n",
    "    reversed_num = 0\n",
    "\n",
    "    while temp != 0:\n",
    "        reversed_num = (reversed_num * 10) + (temp % 10)\n",
    "        temp = temp // 10\n",
    "\n",
    "    if num == reversed_num:\n",
    "        return num\n",
    "    else:\n",
    "        return False\n",
    "\n",
    "is_palindrome(99900000999)"
   ]
  },
  {
   "cell_type": "code",
   "execution_count": null,
   "id": "bef04b16-85f7-42c6-a396-52f000dbc93d",
   "metadata": {},
   "outputs": [],
   "source": [
    "for i in infinite_sequence():\n",
    "    pal = is_palindrome(i)\n",
    "    if pal:\n",
    "        print(i)"
   ]
  },
  {
   "cell_type": "code",
   "execution_count": 11,
   "id": "84a4d424-3b2e-483f-9546-f30e674def0e",
   "metadata": {},
   "outputs": [
    {
     "name": "stdout",
     "output_type": "stream",
     "text": [
      "2\n",
      "4\n",
      "6\n",
      "8\n",
      "10\n",
      "12\n",
      "14\n",
      "16\n",
      "18\n",
      "20\n",
      "22\n",
      "24\n",
      "26\n",
      "28\n",
      "30\n",
      "32\n",
      "34\n",
      "36\n",
      "38\n",
      "40\n",
      "42\n",
      "44\n",
      "46\n",
      "48\n",
      "50\n",
      "52\n",
      "54\n",
      "56\n",
      "58\n",
      "60\n",
      "62\n",
      "64\n",
      "66\n",
      "68\n",
      "70\n",
      "72\n",
      "74\n",
      "76\n",
      "78\n",
      "80\n",
      "82\n",
      "84\n",
      "86\n",
      "88\n",
      "90\n",
      "92\n",
      "94\n",
      "96\n",
      "98\n",
      "100\n"
     ]
    }
   ],
   "source": [
    "def numeros_pares(maximo):\n",
    "    \"\"\"Genera una secuencia de números pares hasta el máximo especificado.\"\"\"\n",
    "    for i in range(2, maximo+1, 2):\n",
    "        yield i\n",
    "\n",
    "# Uso del generador\n",
    "pares = numeros_pares(100)\n",
    "for num in pares:\n",
    "    print(num)"
   ]
  },
  {
   "cell_type": "code",
   "execution_count": 10,
   "id": "60b54641-0189-4e60-955d-1b6009220c05",
   "metadata": {},
   "outputs": [
    {
     "name": "stdout",
     "output_type": "stream",
     "text": [
      "1\n",
      "2\n",
      "3\n"
     ]
    }
   ],
   "source": [
    "def simpleGeneratorFun():\n",
    "    yield 1\n",
    "    yield 2\n",
    "    yield 3\n",
    " \n",
    " \n",
    "# Driver code to check above generator function\n",
    "for value in simpleGeneratorFun():\n",
    "    print(value)"
   ]
  },
  {
   "cell_type": "code",
   "execution_count": null,
   "id": "6ab4d8c1-82a1-4d81-9931-f88067eb13e7",
   "metadata": {},
   "outputs": [],
   "source": [
    "myGenerator()"
   ]
  },
  {
   "cell_type": "code",
   "execution_count": 11,
   "id": "021e8efc-d56e-4057-8d22-26bafbd86d10",
   "metadata": {},
   "outputs": [
    {
     "name": "stdout",
     "output_type": "stream",
     "text": [
      "1\n",
      "4\n",
      "9\n",
      "16\n",
      "25\n",
      "36\n",
      "49\n",
      "64\n",
      "81\n",
      "100\n",
      "121\n",
      "144\n",
      "169\n",
      "196\n",
      "225\n",
      "256\n",
      "289\n",
      "324\n",
      "361\n",
      "400\n",
      "441\n",
      "484\n",
      "529\n",
      "576\n",
      "625\n",
      "676\n",
      "729\n",
      "784\n",
      "841\n",
      "900\n",
      "961\n"
     ]
    }
   ],
   "source": [
    "def nextSquare():\n",
    "    i = 1\n",
    " \n",
    "    # An Infinite loop to generate squares\n",
    "    while True:\n",
    "        yield i*i\n",
    "        i += 1  # Next execution resumes\n",
    "        # from this point\n",
    " \n",
    " \n",
    "# Driver code to test above generator\n",
    "# function\n",
    "for num in nextSquare():\n",
    "    if num > 100:\n",
    "        break\n",
    "    print(num)"
   ]
  },
  {
   "cell_type": "code",
   "execution_count": 23,
   "id": "f1a2ea3f-07b4-4297-9535-c5d2d482d85a",
   "metadata": {},
   "outputs": [
    {
     "name": "stdout",
     "output_type": "stream",
     "text": [
      "[0, 1, 2, 3]\n",
      "[4, 5, 6, 7]\n",
      "[8, 9]\n"
     ]
    }
   ],
   "source": [
    "def get_part(payload: list, chunk: int):\n",
    "    start_index = 0\n",
    "    while start_index < len(payload):\n",
    "        yield payload[start_index: start_index + chunk]\n",
    "        start_index += chunk\n",
    "    \n",
    "payload = list(range(10))\n",
    "chunk = 4\n",
    "\n",
    "for part in get_part(payload, chunk):\n",
    "    print(part)"
   ]
  },
  {
   "cell_type": "code",
   "execution_count": 24,
   "id": "ee3363de-4998-44ae-bbcc-439c40dc4ad2",
   "metadata": {},
   "outputs": [
    {
     "name": "stdout",
     "output_type": "stream",
     "text": [
      "140205298427696\n",
      "140205325898256\n"
     ]
    }
   ],
   "source": [
    "# sandbox\n",
    "\n",
    "s = 'hello world'\n",
    "print(id(s))\n",
    "\n",
    "s = 'good bye cruel world!'\n",
    "print(id(s))"
   ]
  },
  {
   "cell_type": "code",
   "execution_count": null,
   "id": "dea34f5e-9148-48ff-807d-4f101dc6d44f",
   "metadata": {},
   "outputs": [],
   "source": []
  }
 ],
 "metadata": {
  "kernelspec": {
   "display_name": "Python 3 (ipykernel)",
   "language": "python",
   "name": "python3"
  },
  "language_info": {
   "codemirror_mode": {
    "name": "ipython",
    "version": 3
   },
   "file_extension": ".py",
   "mimetype": "text/x-python",
   "name": "python",
   "nbconvert_exporter": "python",
   "pygments_lexer": "ipython3",
   "version": "3.8.15"
  }
 },
 "nbformat": 4,
 "nbformat_minor": 5
}
