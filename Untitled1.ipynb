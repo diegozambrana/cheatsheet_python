{
 "cells": [
  {
   "cell_type": "code",
   "execution_count": null,
   "id": "3c8b80d4-de23-4ee9-bb92-3d91ee48e873",
   "metadata": {},
   "outputs": [],
   "source": []
  }
 ],
 "metadata": {
  "kernelspec": {
   "display_name": "",
   "name": ""
  },
  "language_info": {
   "name": ""
  }
 },
 "nbformat": 4,
 "nbformat_minor": 5
}
