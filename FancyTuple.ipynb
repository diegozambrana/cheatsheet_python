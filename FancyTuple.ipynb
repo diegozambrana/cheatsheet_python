{
 "cells": [
  {
   "cell_type": "code",
   "execution_count": 1,
   "id": "daec022c-1061-4f83-b304-357563070e8d",
   "metadata": {},
   "outputs": [
    {
     "name": "stdout",
     "output_type": "stream",
     "text": [
      "2\n",
      "dog\n"
     ]
    },
    {
     "ename": "AttributeError",
     "evalue": "Attribute not found: third",
     "output_type": "error",
     "traceback": [
      "\u001b[0;31m---------------------------------------------------------------------------\u001b[0m",
      "\u001b[0;31mAttributeError\u001b[0m                            Traceback (most recent call last)",
      "Cell \u001b[0;32mIn [1], line 21\u001b[0m\n\u001b[1;32m     18\u001b[0m \u001b[38;5;28mprint\u001b[39m(\u001b[38;5;28mlen\u001b[39m(ft))\n\u001b[1;32m     19\u001b[0m \u001b[38;5;28mprint\u001b[39m(ft\u001b[38;5;241m.\u001b[39mfirst)\n\u001b[0;32m---> 21\u001b[0m \u001b[38;5;28mprint\u001b[39m(\u001b[43mft\u001b[49m\u001b[38;5;241;43m.\u001b[39;49m\u001b[43mthird\u001b[49m)\n",
      "Cell \u001b[0;32mIn [1], line 10\u001b[0m, in \u001b[0;36mFancyTuple.__getattribute__\u001b[0;34m(self, name)\u001b[0m\n\u001b[1;32m      8\u001b[0m     index \u001b[38;5;241m=\u001b[39m \u001b[38;5;28mobject\u001b[39m\u001b[38;5;241m.\u001b[39m\u001b[38;5;21m__getattribute__\u001b[39m(\u001b[38;5;28mself\u001b[39m, \u001b[38;5;124m'\u001b[39m\u001b[38;5;124m_names\u001b[39m\u001b[38;5;124m'\u001b[39m)\u001b[38;5;241m.\u001b[39mindex(name)\n\u001b[1;32m      9\u001b[0m     \u001b[38;5;28;01mif\u001b[39;00m index \u001b[38;5;241m>\u001b[39m\u001b[38;5;241m=\u001b[39m \u001b[38;5;28mlen\u001b[39m(\u001b[38;5;28mobject\u001b[39m\u001b[38;5;241m.\u001b[39m\u001b[38;5;21m__getattribute__\u001b[39m(\u001b[38;5;28mself\u001b[39m, \u001b[38;5;124m'\u001b[39m\u001b[38;5;124m_elements\u001b[39m\u001b[38;5;124m'\u001b[39m)):\n\u001b[0;32m---> 10\u001b[0m         \u001b[38;5;28;01mraise\u001b[39;00m \u001b[38;5;167;01mAttributeError\u001b[39;00m(\u001b[38;5;124m\"\u001b[39m\u001b[38;5;124mAttribute not found: \u001b[39m\u001b[38;5;132;01m{}\u001b[39;00m\u001b[38;5;124m\"\u001b[39m\u001b[38;5;241m.\u001b[39mformat(name))\n\u001b[1;32m     11\u001b[0m     \u001b[38;5;28;01mreturn\u001b[39;00m \u001b[38;5;28mobject\u001b[39m\u001b[38;5;241m.\u001b[39m\u001b[38;5;21m__getattribute__\u001b[39m(\u001b[38;5;28mself\u001b[39m, \u001b[38;5;124m'\u001b[39m\u001b[38;5;124m_elements\u001b[39m\u001b[38;5;124m'\u001b[39m)[index]\n\u001b[1;32m     12\u001b[0m \u001b[38;5;28;01mreturn\u001b[39;00m \u001b[38;5;28mobject\u001b[39m\u001b[38;5;241m.\u001b[39m\u001b[38;5;21m__getattribute__\u001b[39m(\u001b[38;5;28mself\u001b[39m, name)\n",
      "\u001b[0;31mAttributeError\u001b[0m: Attribute not found: third"
     ]
    }
   ],
   "source": [
    "class FancyTuple:\n",
    "    def __init__(self, *args):\n",
    "        self._elements = args\n",
    "        self._names = ['first', 'second', 'third', 'fourth', 'fifth']\n",
    "    \n",
    "    def __getattribute__(self, name):\n",
    "        if name in object.__getattribute__(self, '_names'):\n",
    "            index = object.__getattribute__(self, '_names').index(name)\n",
    "            if index >= len(object.__getattribute__(self, '_elements')):\n",
    "                raise AttributeError(\"Attribute not found: {}\".format(name))\n",
    "            return object.__getattribute__(self, '_elements')[index]\n",
    "        return object.__getattribute__(self, name)\n",
    "    \n",
    "    def __len__(self):\n",
    "        return len(self._elements)\n",
    "    \n",
    "ft = FancyTuple(\"dog\", \"cat\")\n",
    "print(len(ft))\n",
    "print(ft.first)\n",
    "\n",
    "print(ft.third)"
   ]
  },
  {
   "cell_type": "code",
   "execution_count": 6,
   "id": "67d13741-4174-41bc-a53c-4a589eb95a0b",
   "metadata": {},
   "outputs": [
    {
     "name": "stdout",
     "output_type": "stream",
     "text": [
      "2\n",
      "dog\n",
      "('dog', 'cat')\n"
     ]
    },
    {
     "ename": "AttributeError",
     "evalue": "Attribute not found: third",
     "output_type": "error",
     "traceback": [
      "\u001b[0;31m---------------------------------------------------------------------------\u001b[0m",
      "\u001b[0;31mAttributeError\u001b[0m                            Traceback (most recent call last)",
      "Cell \u001b[0;32mIn [6], line 21\u001b[0m\n\u001b[1;32m     19\u001b[0m \u001b[38;5;28mprint\u001b[39m(ft\u001b[38;5;241m.\u001b[39mfirst)\n\u001b[1;32m     20\u001b[0m \u001b[38;5;28mprint\u001b[39m(ft\u001b[38;5;241m.\u001b[39m_elements)\n\u001b[0;32m---> 21\u001b[0m \u001b[38;5;28mprint\u001b[39m(\u001b[43mft\u001b[49m\u001b[38;5;241;43m.\u001b[39;49m\u001b[43mthird\u001b[49m)\n",
      "Cell \u001b[0;32mIn [6], line 10\u001b[0m, in \u001b[0;36mFancyTuple.__getattribute__\u001b[0;34m(self, name)\u001b[0m\n\u001b[1;32m      8\u001b[0m     index \u001b[38;5;241m=\u001b[39m \u001b[38;5;28mobject\u001b[39m\u001b[38;5;241m.\u001b[39m\u001b[38;5;21m__getattribute__\u001b[39m(\u001b[38;5;28mself\u001b[39m, \u001b[38;5;124m'\u001b[39m\u001b[38;5;124m_names\u001b[39m\u001b[38;5;124m'\u001b[39m)\u001b[38;5;241m.\u001b[39mindex(name)\n\u001b[1;32m      9\u001b[0m     \u001b[38;5;28;01mif\u001b[39;00m index \u001b[38;5;241m>\u001b[39m\u001b[38;5;241m=\u001b[39m \u001b[38;5;28mlen\u001b[39m(\u001b[38;5;28mobject\u001b[39m\u001b[38;5;241m.\u001b[39m\u001b[38;5;21m__getattribute__\u001b[39m(\u001b[38;5;28mself\u001b[39m, \u001b[38;5;124m'\u001b[39m\u001b[38;5;124m_elements\u001b[39m\u001b[38;5;124m'\u001b[39m)):\n\u001b[0;32m---> 10\u001b[0m         \u001b[38;5;28;01mraise\u001b[39;00m \u001b[38;5;167;01mAttributeError\u001b[39;00m(\u001b[38;5;124m\"\u001b[39m\u001b[38;5;124mAttribute not found: \u001b[39m\u001b[38;5;132;01m{}\u001b[39;00m\u001b[38;5;124m\"\u001b[39m\u001b[38;5;241m.\u001b[39mformat(name))\n\u001b[1;32m     11\u001b[0m     \u001b[38;5;28;01mreturn\u001b[39;00m \u001b[38;5;28mobject\u001b[39m\u001b[38;5;241m.\u001b[39m\u001b[38;5;21m__getattribute__\u001b[39m(\u001b[38;5;28mself\u001b[39m, \u001b[38;5;124m'\u001b[39m\u001b[38;5;124m_elements\u001b[39m\u001b[38;5;124m'\u001b[39m)[index]\n\u001b[1;32m     12\u001b[0m \u001b[38;5;28;01mreturn\u001b[39;00m \u001b[38;5;28mobject\u001b[39m\u001b[38;5;241m.\u001b[39m\u001b[38;5;21m__getattribute__\u001b[39m(\u001b[38;5;28mself\u001b[39m, name)\n",
      "\u001b[0;31mAttributeError\u001b[0m: Attribute not found: third"
     ]
    }
   ],
   "source": [
    "class FancyTuple:\n",
    "    def __init__(self, *args):\n",
    "        self._elements = args\n",
    "        self._names = ['first', 'second', 'third', 'fourth', 'fifth']\n",
    "    \n",
    "    def __getattribute__(self, name):\n",
    "        if name in object.__getattribute__(self, '_names'):\n",
    "            index = object.__getattribute__(self, '_names').index(name)\n",
    "            if index >= len(object.__getattribute__(self, '_elements')):\n",
    "                raise AttributeError(\"Attribute not found: {}\".format(name))\n",
    "            return object.__getattribute__(self, '_elements')[index]\n",
    "        return object.__getattribute__(self, name)\n",
    "    \n",
    "    def __len__(self):\n",
    "        return len(self._elements)\n",
    "    \n",
    "ft = FancyTuple(\"dog\", \"cat\")\n",
    "print(len(ft))\n",
    "print(ft.first)\n",
    "print(ft._elements)\n",
    "print(ft.third)"
   ]
  }
 ],
 "metadata": {
  "kernelspec": {
   "display_name": "Python 3 (ipykernel)",
   "language": "python",
   "name": "python3"
  },
  "language_info": {
   "codemirror_mode": {
    "name": "ipython",
    "version": 3
   },
   "file_extension": ".py",
   "mimetype": "text/x-python",
   "name": "python",
   "nbconvert_exporter": "python",
   "pygments_lexer": "ipython3",
   "version": "3.8.15"
  }
 },
 "nbformat": 4,
 "nbformat_minor": 5
}
