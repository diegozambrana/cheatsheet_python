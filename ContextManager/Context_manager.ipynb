{
 "cells": [
  {
   "cell_type": "markdown",
   "id": "468104db-61d9-4ce1-a19e-a41d8b8350dd",
   "metadata": {},
   "source": [
    "## Context Manager"
   ]
  },
  {
   "cell_type": "code",
   "execution_count": 1,
   "id": "c4791855-c314-48e5-acfe-10f5611accce",
   "metadata": {},
   "outputs": [],
   "source": [
    "with open('some_file', 'w') as opened_file:\n",
    "    opened_file.write('Hola!')"
   ]
  },
  {
   "cell_type": "code",
   "execution_count": 3,
   "id": "1a18566f-1739-41f4-917a-31fb9a321540",
   "metadata": {},
   "outputs": [],
   "source": [
    "# implementer un Context Manager como una clase\n",
    "\n",
    "class File(object):\n",
    "    def __init__(self, file_name, method):\n",
    "        self.file_obj = open(file_name, method)\n",
    "    def __enter__(self):\n",
    "        return self.file_obj\n",
    "    def __exit__(self, type, value, traceback):\n",
    "        self.file_obj.close()\n",
    "\n",
    "with File('demo.txt', 'w') as opened_file:\n",
    "    opened_file.write('Hola!')"
   ]
  },
  {
   "cell_type": "code",
   "execution_count": 5,
   "id": "51e4ca9e-87fa-4dd5-9c93-6e3e5612d0da",
   "metadata": {},
   "outputs": [
    {
     "name": "stdout",
     "output_type": "stream",
     "text": [
      "Exception has been handled\n"
     ]
    }
   ],
   "source": [
    "# handling exceptions\n",
    "\n",
    "class File(object):\n",
    "    def __init__(self, file_name, method):\n",
    "        self.file_obj = open(file_name, method)\n",
    "    def __enter__(self):\n",
    "        return self.file_obj\n",
    "    def __exit__(self, type, value, traceback):\n",
    "        print(\"Exception has been handled\")\n",
    "        self.file_obj.close()\n",
    "        return True\n",
    "\n",
    "\n",
    "with File('demo.txt', 'w') as opened_file:\n",
    "    opened_file.undefined_function('Hola!')"
   ]
  },
  {
   "cell_type": "code",
   "execution_count": 1,
   "id": "a80ad53b-85f9-4b72-ac1d-b75d7fcffe08",
   "metadata": {},
   "outputs": [],
   "source": [
    "# Implementing a context manager as generator\n",
    "\n",
    "from contextlib import contextmanager\n",
    "\n",
    "@contextmanager\n",
    "def open_file(name):\n",
    "    f = open(name, 'w')\n",
    "    try:\n",
    "        yield f\n",
    "    finally:\n",
    "        f.close()\n",
    "\n",
    "with open_file('test.text') as f:\n",
    "    f.write('hola!')"
   ]
  },
  {
   "cell_type": "code",
   "execution_count": null,
   "id": "c28079c3-3de1-4dbd-83e4-2b80f3db81b0",
   "metadata": {},
   "outputs": [],
   "source": []
  }
 ],
 "metadata": {
  "kernelspec": {
   "display_name": "Python 3 (ipykernel)",
   "language": "python",
   "name": "python3"
  },
  "language_info": {
   "codemirror_mode": {
    "name": "ipython",
    "version": 3
   },
   "file_extension": ".py",
   "mimetype": "text/x-python",
   "name": "python",
   "nbconvert_exporter": "python",
   "pygments_lexer": "ipython3",
   "version": "3.8.15"
  }
 },
 "nbformat": 4,
 "nbformat_minor": 5
}
