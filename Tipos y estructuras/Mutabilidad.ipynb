{
 "cells": [
  {
   "cell_type": "markdown",
   "id": "60aa4db5-f99c-4dad-8c25-15a5be415f56",
   "metadata": {},
   "source": [
    "# Identidad, tipo y valor\n",
    "\n",
    "Python es un lenguaje de programación orientado a objetos, y como tal, trata a todos los tipos de datos como objetos. Un simple entero es un objeto.\n",
    "\n",
    "Link: [https://ellibrodepython.com/mutabilidad-python](https://ellibrodepython.com/mutabilidad-python)"
   ]
  },
  {
   "cell_type": "code",
   "execution_count": 1,
   "id": "9349b010-3903-494a-9d37-74785d9d4e1d",
   "metadata": {},
   "outputs": [],
   "source": [
    "x = 5\n",
    "\n",
    "def y():\n",
    "    pass"
   ]
  },
  {
   "cell_type": "markdown",
   "id": "d3e9313b-c5fe-4c58-a136-92311c15d3e2",
   "metadata": {},
   "source": [
    "* **Identidad**: Nunca cambia e identifica de manera unívoca al objeto. El operador `is` nos permite saber si dos objetos son en realidad el mismo. Es decir, si dos variables hacen referencia al mismo.\n",
    "* **Tipo**: Nos indica el tipo al que pertenece, como un float o una lista. La función `type()` nos indica el tipo de un determinado objeto. Es la clase a la que pertenece.\n",
    "* **Valor**: Todo objeto tiene unas características particulares. Si estas características pueden ser modificadas, diremos que es un tipo mutable. De lo contrario, que es inmutable."
   ]
  },
  {
   "cell_type": "code",
   "execution_count": 2,
   "id": "dc1c0936-50db-49dc-ad62-cd83b54895bb",
   "metadata": {},
   "outputs": [
    {
     "name": "stdout",
     "output_type": "stream",
     "text": [
      "True\n"
     ]
    }
   ],
   "source": [
    "b = x\n",
    "print(x is b)"
   ]
  },
  {
   "cell_type": "code",
   "execution_count": 7,
   "id": "e60ef103-f10c-4343-b8d2-d1c2fe49ee2f",
   "metadata": {},
   "outputs": [
    {
     "data": {
      "text/plain": [
       "int"
      ]
     },
     "execution_count": 7,
     "metadata": {},
     "output_type": "execute_result"
    }
   ],
   "source": [
    "type(x)"
   ]
  },
  {
   "cell_type": "code",
   "execution_count": 14,
   "id": "c0a69367-4d93-4700-ac9f-b097c637cf03",
   "metadata": {},
   "outputs": [
    {
     "name": "stdout",
     "output_type": "stream",
     "text": [
      "Identidad: 4370579648\n",
      "Tipo: <class 'int'>\n",
      "Value: 10\n"
     ]
    }
   ],
   "source": [
    "x = 10\n",
    "print(\"Identidad:\", id(x))\n",
    "print(\"Tipo:\", type(x))\n",
    "print(\"Value:\", x)\n",
    "\n",
    "# Los enteros en Python, son un tipo inmutable y a continuación explicaremos las implicaciones que tiene esto."
   ]
  },
  {
   "cell_type": "markdown",
   "id": "ebfacf20-61b8-494e-b297-860fadb2847a",
   "metadata": {},
   "source": [
    "# Mutabilidad"
   ]
  },
  {
   "cell_type": "code",
   "execution_count": 15,
   "id": "41cb2791-5f57-483f-aea6-464a4181e748",
   "metadata": {},
   "outputs": [
    {
     "name": "stdout",
     "output_type": "stream",
     "text": [
      "140286461248640\n",
      "140286461248640\n"
     ]
    }
   ],
   "source": [
    "l = [1, 2, 3]\n",
    "print(id(l))\n",
    "l[0] = 0\n",
    "print(id(l)) "
   ]
  },
  {
   "cell_type": "code",
   "execution_count": 21,
   "id": "fd761d9b-5b2b-4ede-add5-7fb4496b87f6",
   "metadata": {},
   "outputs": [
    {
     "name": "stdout",
     "output_type": "stream",
     "text": [
      "140286461280640\n",
      "(0, 2, 3, 3)\n",
      "140286461280640\n"
     ]
    }
   ],
   "source": [
    "t = (1, 2, 3, 3)\n",
    "print(id(t))\n",
    "t = list(t)\n",
    "\n",
    "# Modificar elemento\n",
    "t[0] = 0\n",
    "\n",
    "t = tuple(t)\n",
    "print(t)     #(0, 2, 3)\n",
    "print(id(t)) "
   ]
  },
  {
   "cell_type": "code",
   "execution_count": 20,
   "id": "3cf41cb6-4206-47a0-b8e8-cb1181e390ae",
   "metadata": {},
   "outputs": [
    {
     "name": "stdout",
     "output_type": "stream",
     "text": [
      "4370579488\n",
      "4370579520\n"
     ]
    }
   ],
   "source": [
    "x = 5\n",
    "print(id(x)) # 4525173536\n",
    "x = x + 1\n",
    "print(id(x)) # 4525173568 (Ha cambiado)"
   ]
  },
  {
   "cell_type": "code",
   "execution_count": 22,
   "id": "16d1d85e-38d1-4d64-9c51-8645dac2cb49",
   "metadata": {},
   "outputs": [
    {
     "name": "stdout",
     "output_type": "stream",
     "text": [
      "140286461171712\n",
      "140286461171712\n"
     ]
    }
   ],
   "source": [
    "x = [1, 2]\n",
    "print(id(x)) # 4382432768\n",
    "x.append(3)\n",
    "print(id(x)) # 4382432768 (No cambia)"
   ]
  },
  {
   "cell_type": "markdown",
   "id": "b62459e6-13fb-4055-91a0-b17ad4c0320c",
   "metadata": {},
   "source": [
    "## Mutabilidad y paso por valor/referencia"
   ]
  },
  {
   "cell_type": "code",
   "execution_count": 23,
   "id": "e2080476-ba57-4c5c-a432-c72c2041abcd",
   "metadata": {},
   "outputs": [
    {
     "name": "stdout",
     "output_type": "stream",
     "text": [
      "5\n",
      "[10]\n"
     ]
    }
   ],
   "source": [
    "def funcion(a, b):\n",
    "    a = 10\n",
    "    b[0] = 10\n",
    "\n",
    "# x es un entero\n",
    "x = 5\n",
    "\n",
    "# y es una lista\n",
    "y = [5]\n",
    "\n",
    "funcion(x, y)\n",
    "\n",
    "print(x) # 5\n",
    "print(y) # 10"
   ]
  },
  {
   "cell_type": "code",
   "execution_count": 24,
   "id": "fb7cf6af-b595-4d2b-9d05-38339a60c34e",
   "metadata": {},
   "outputs": [
    {
     "ename": "TypeError",
     "evalue": "'tuple' object does not support item assignment",
     "output_type": "error",
     "traceback": [
      "\u001b[0;31m---------------------------------------------------------------------------\u001b[0m",
      "\u001b[0;31mTypeError\u001b[0m                                 Traceback (most recent call last)",
      "Cell \u001b[0;32mIn [24], line 4\u001b[0m\n\u001b[1;32m      1\u001b[0m \u001b[38;5;66;03m# Ejercicio\u001b[39;00m\n\u001b[1;32m      3\u001b[0m T \u001b[38;5;241m=\u001b[39m (\u001b[38;5;241m1\u001b[39m, \u001b[38;5;241m2\u001b[39m, \u001b[38;5;241m3\u001b[39m, \u001b[38;5;241m4\u001b[39m, \u001b[38;5;241m5\u001b[39m)\n\u001b[0;32m----> 4\u001b[0m \u001b[43mT\u001b[49m\u001b[43m[\u001b[49m\u001b[38;5;241;43m2\u001b[39;49m\u001b[43m]\u001b[49m \u001b[38;5;241m=\u001b[39m \u001b[38;5;241m0\u001b[39m\n",
      "\u001b[0;31mTypeError\u001b[0m: 'tuple' object does not support item assignment"
     ]
    }
   ],
   "source": [
    "# Ejercicio\n",
    "\n",
    "T = (1, 2, 3, 4, 5)\n",
    "T[2] = 0"
   ]
  },
  {
   "cell_type": "code",
   "execution_count": 25,
   "id": "a6878c98-bca7-412b-a87e-b506028f8545",
   "metadata": {},
   "outputs": [
    {
     "name": "stdout",
     "output_type": "stream",
     "text": [
      "(1, 2, 0, 4, 5)\n"
     ]
    }
   ],
   "source": [
    "T = (1, 2, 3, 4, 5)\n",
    "T = T[:2] + (0,) + T[3:]\n",
    "print(T) #(1, 2, 0, 4, 5)"
   ]
  },
  {
   "cell_type": "code",
   "execution_count": null,
   "id": "03a84704-9b4f-4ef3-9f19-42b5d121b802",
   "metadata": {},
   "outputs": [],
   "source": []
  }
 ],
 "metadata": {
  "kernelspec": {
   "display_name": "Python 3 (ipykernel)",
   "language": "python",
   "name": "python3"
  },
  "language_info": {
   "codemirror_mode": {
    "name": "ipython",
    "version": 3
   },
   "file_extension": ".py",
   "mimetype": "text/x-python",
   "name": "python",
   "nbconvert_exporter": "python",
   "pygments_lexer": "ipython3",
   "version": "3.8.15"
  }
 },
 "nbformat": 4,
 "nbformat_minor": 5
}
