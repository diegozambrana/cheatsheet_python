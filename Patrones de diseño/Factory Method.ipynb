{
 "cells": [
  {
   "cell_type": "markdown",
   "id": "da1c4014-0f10-4b14-bf4f-7acc97c7cbbc",
   "metadata": {},
   "source": [
    "# Factory Method"
   ]
  },
  {
   "cell_type": "code",
   "execution_count": 1,
   "id": "4d53374e-b1a3-45b1-a3a9-1b070aaca153",
   "metadata": {},
   "outputs": [],
   "source": [
    "from __future__ import annotations\n",
    "from abc import ABC, abstractmethod\n",
    "\n",
    "\n",
    "class Creator(ABC):\n",
    "    \"\"\"\n",
    "    The Creator class declares the factory method that is supposed to return an\n",
    "    object of a Product class. The Creator's subclasses usually provide the\n",
    "    implementation of this method.\n",
    "    \"\"\"\n",
    "\n",
    "    @abstractmethod\n",
    "    def factory_method(self):\n",
    "        \"\"\"\n",
    "        Note that the Creator may also provide some default implementation of\n",
    "        the factory method.\n",
    "        \"\"\"\n",
    "        pass\n",
    "\n",
    "    def some_operation(self) -> str:\n",
    "        \"\"\"\n",
    "        Also note that, despite its name, the Creator's primary responsibility\n",
    "        is not creating products. Usually, it contains some core business logic\n",
    "        that relies on Product objects, returned by the factory method.\n",
    "        Subclasses can indirectly change that business logic by overriding the\n",
    "        factory method and returning a different type of product from it.\n",
    "        \"\"\"\n",
    "\n",
    "        # Call the factory method to create a Product object.\n",
    "        product = self.factory_method()\n",
    "\n",
    "        # Now, use the product.\n",
    "        result = f\"Creator: The same creator's code has just worked with {product.operation()}\"\n",
    "\n",
    "        return result\n",
    "\n",
    "\n",
    "\"\"\"\n",
    "Concrete Creators override the factory method in order to change the resulting\n",
    "product's type.\n",
    "\"\"\"\n",
    "\n",
    "\n",
    "class ConcreteCreator1(Creator):\n",
    "    \"\"\"\n",
    "    Note that the signature of the method still uses the abstract product type,\n",
    "    even though the concrete product is actually returned from the method. This\n",
    "    way the Creator can stay independent of concrete product classes.\n",
    "    \"\"\"\n",
    "\n",
    "    def factory_method(self) -> Product:\n",
    "        return ConcreteProduct1()\n",
    "\n",
    "\n",
    "class ConcreteCreator2(Creator):\n",
    "    def factory_method(self) -> Product:\n",
    "        return ConcreteProduct2()\n",
    "\n",
    "\n",
    "class Product(ABC):\n",
    "    \"\"\"\n",
    "    The Product interface declares the operations that all concrete products\n",
    "    must implement.\n",
    "    \"\"\"\n",
    "\n",
    "    @abstractmethod\n",
    "    def operation(self) -> str:\n",
    "        pass\n",
    "\n",
    "\n",
    "\"\"\"\n",
    "Concrete Products provide various implementations of the Product interface.\n",
    "\"\"\"\n",
    "\n",
    "\n",
    "class ConcreteProduct1(Product):\n",
    "    def operation(self) -> str:\n",
    "        return \"{Result of the ConcreteProduct1}\"\n",
    "\n",
    "\n",
    "class ConcreteProduct2(Product):\n",
    "    def operation(self) -> str:\n",
    "        return \"{Result of the ConcreteProduct2}\"\n",
    "\n",
    "\n",
    "def client_code(creator: Creator) -> None:\n",
    "    \"\"\"\n",
    "    The client code works with an instance of a concrete creator, albeit through\n",
    "    its base interface. As long as the client keeps working with the creator via\n",
    "    the base interface, you can pass it any creator's subclass.\n",
    "    \"\"\"\n",
    "\n",
    "    print(f\"Client: I'm not aware of the creator's class, but it still works.\\n\"\n",
    "          f\"{creator.some_operation()}\", end=\"\")"
   ]
  },
  {
   "cell_type": "code",
   "execution_count": 2,
   "id": "201398b3-4d75-402b-8c05-6c98b3c5a82a",
   "metadata": {},
   "outputs": [
    {
     "name": "stdout",
     "output_type": "stream",
     "text": [
      "App: Launched with the ConcreteCreator1.\n",
      "Client: I'm not aware of the creator's class, but it still works.\n",
      "Creator: The same creator's code has just worked with {Result of the ConcreteProduct1}\n",
      "\n",
      "App: Launched with the ConcreteCreator2.\n",
      "Client: I'm not aware of the creator's class, but it still works.\n",
      "Creator: The same creator's code has just worked with {Result of the ConcreteProduct2}"
     ]
    }
   ],
   "source": [
    "\n",
    "print(\"App: Launched with the ConcreteCreator1.\")\n",
    "client_code(ConcreteCreator1())\n",
    "print(\"\\n\")\n",
    "\n",
    "print(\"App: Launched with the ConcreteCreator2.\")\n",
    "client_code(ConcreteCreator2())"
   ]
  },
  {
   "cell_type": "markdown",
   "id": "dd1f476c-97a2-446b-892d-a2d3d52efccf",
   "metadata": {},
   "source": [
    "### Ejemplo"
   ]
  },
  {
   "cell_type": "code",
   "execution_count": 14,
   "id": "f86fce8d-455d-44b4-accc-ef85d1f34168",
   "metadata": {},
   "outputs": [],
   "source": [
    "from abc import ABC, abstractmethod\n",
    "\n",
    "class Animal(ABC):\n",
    "    @abstractmethod\n",
    "    def make_sound(self):\n",
    "        pass\n",
    "\n",
    "class Dog(Animal):\n",
    "    def make_sound(self):\n",
    "        return \"Woof!\"\n",
    "\n",
    "class Cat(Animal):\n",
    "    def make_sound(self):\n",
    "        return \"Meow!\"\n",
    "\n",
    "class Chicken(Animal):\n",
    "    def __init__(self, color):\n",
    "        self.color = color\n",
    "    \n",
    "    def make_sound(self):\n",
    "        if self.color == 'black':\n",
    "            return \"Kukuruku!\"\n",
    "        if self.color == 'yellow':\n",
    "            return 'kikiriki!'\n",
    "        return \"Pio!\"\n",
    "\n",
    "class AnimalFactory(ABC):\n",
    "    @abstractmethod\n",
    "    def create_animal(self):\n",
    "        pass\n",
    "\n",
    "class DogFactory(AnimalFactory):\n",
    "    def create_animal(self):\n",
    "        return Dog()\n",
    "\n",
    "class CatFactory(AnimalFactory):\n",
    "    def create_animal(self):\n",
    "        return Cat()\n",
    "\n",
    "class ChickenFactory(AnimalFactory):\n",
    "    def create_animal(self, color=None):\n",
    "        return Chicken(color)"
   ]
  },
  {
   "cell_type": "code",
   "execution_count": 15,
   "id": "ebb57f76-9566-4347-afae-e8ef26e8b794",
   "metadata": {},
   "outputs": [
    {
     "name": "stdout",
     "output_type": "stream",
     "text": [
      "Woof!\n",
      "Meow!\n",
      "Pio!\n",
      "Kukuruku!\n",
      "kikiriki!\n"
     ]
    }
   ],
   "source": [
    "dog_factory = DogFactory()\n",
    "dog = dog_factory.create_animal()\n",
    "print(dog.make_sound())  # Output: Woof!\n",
    "\n",
    "cat_factory = CatFactory()\n",
    "cat = cat_factory.create_animal()\n",
    "print(cat.make_sound())  # Output: Meow!\n",
    "\n",
    "chicken_factory = ChickenFactory()\n",
    "chicken = chicken_factory.create_animal()\n",
    "chicken2 = chicken_factory.create_animal(color='black')\n",
    "chicken3 = chicken_factory.create_animal(color='yellow')\n",
    "print(chicken.make_sound())  # Output: Meow!\n",
    "print(chicken2.make_sound())  # Output: Meow!\n",
    "print(chicken3.make_sound())  # Output: Meow!"
   ]
  },
  {
   "cell_type": "markdown",
   "id": "a4813e5a-8da2-4358-bef0-79ae676d1d0a",
   "metadata": {},
   "source": [
    "## Otro ejemplo"
   ]
  },
  {
   "cell_type": "code",
   "execution_count": 23,
   "id": "38cb8975-db0c-4148-925c-819ee9a04199",
   "metadata": {},
   "outputs": [
    {
     "name": "stdout",
     "output_type": "stream",
     "text": [
      "Easy enemy attacks with a sword\n"
     ]
    }
   ],
   "source": [
    "from abc import ABC, abstractmethod\n",
    "import random\n",
    "\n",
    "class Enemy(ABC):\n",
    "    @abstractmethod\n",
    "    def attack(self):\n",
    "        pass\n",
    "\n",
    "class EasyEnemy(Enemy):\n",
    "    def attack(self):\n",
    "        print(\"Easy enemy attacks with a sword\")\n",
    "\n",
    "class MediumEnemy(Enemy):\n",
    "    def attack(self):\n",
    "        print(\"Medium enemy attacks with a spear\")\n",
    "\n",
    "class HardEnemy(Enemy):\n",
    "    def attack(self):\n",
    "        print(\"Hard enemy attacks with a gun\")\n",
    "\n",
    "class EnemyFactory:\n",
    "    @staticmethod\n",
    "    def create_enemy():\n",
    "        enemy_types = [EasyEnemy, MediumEnemy, HardEnemy]\n",
    "        return random.choice(enemy_types)()\n",
    "\n",
    "# main program\n",
    "enemy = EnemyFactory.create_enemy()\n",
    "enemy.attack()"
   ]
  }
 ],
 "metadata": {
  "kernelspec": {
   "display_name": "Python 3 (ipykernel)",
   "language": "python",
   "name": "python3"
  },
  "language_info": {
   "codemirror_mode": {
    "name": "ipython",
    "version": 3
   },
   "file_extension": ".py",
   "mimetype": "text/x-python",
   "name": "python",
   "nbconvert_exporter": "python",
   "pygments_lexer": "ipython3",
   "version": "3.8.15"
  }
 },
 "nbformat": 4,
 "nbformat_minor": 5
}
