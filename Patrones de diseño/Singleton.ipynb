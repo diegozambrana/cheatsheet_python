{
 "cells": [
  {
   "cell_type": "markdown",
   "id": "a70e159d-af48-4f07-b099-10bfa0a37223",
   "metadata": {},
   "source": [
    "# Singleton"
   ]
  },
  {
   "cell_type": "markdown",
   "id": "f1226188-929a-4581-b6dd-3ed10f544d7b",
   "metadata": {},
   "source": [
    "> ejemplo de metaclass"
   ]
  },
  {
   "cell_type": "code",
   "execution_count": 2,
   "id": "3c131d84-82b3-4c47-acba-1d9e8836c0e3",
   "metadata": {},
   "outputs": [
    {
     "name": "stdout",
     "output_type": "stream",
     "text": [
      "This is a custom attribute added by MyMeta\n",
      "This is a method in MyClass\n"
     ]
    }
   ],
   "source": [
    "class MyMeta(type):\n",
    "    def __new__(cls, name, bases, attrs):\n",
    "        # realizar verificaciones o modificaciones en la definición de la clase\n",
    "        attrs[\"my_attribute\"] = \"This is a custom attribute added by MyMeta\"\n",
    "        return super().__new__(cls, name, bases, attrs)\n",
    "\n",
    "class MyClass(metaclass=MyMeta):\n",
    "    def my_method(self):\n",
    "        print(\"This is a method in MyClass\")\n",
    "        \n",
    "my_object = MyClass()\n",
    "print(my_object.my_attribute) # Output: \"This is a custom attribute added by MyMeta\"\n",
    "my_object.my_method() # Output: \"This is a method in MyClass\""
   ]
  },
  {
   "cell_type": "markdown",
   "id": "fb89a408-9180-4dee-8505-aa7d9b8986b7",
   "metadata": {},
   "source": [
    "## Ejemplo Singleton"
   ]
  },
  {
   "cell_type": "code",
   "execution_count": 4,
   "id": "4cea14a5-0d02-43c2-9921-c7b6375a1685",
   "metadata": {},
   "outputs": [
    {
     "name": "stdout",
     "output_type": "stream",
     "text": [
      "Singleton works, both variables contain the same instance.\n"
     ]
    }
   ],
   "source": [
    "class SingletonMeta(type):\n",
    "    \"\"\"\n",
    "    The Singleton class can be implemented in different ways in Python. Some\n",
    "    possible methods include: base class, decorator, metaclass. We will use the\n",
    "    metaclass because it is best suited for this purpose.\n",
    "    \"\"\"\n",
    "\n",
    "    _instances = {}\n",
    "\n",
    "    def __call__(cls, *args, **kwargs):\n",
    "        \"\"\"\n",
    "        Possible changes to the value of the `__init__` argument do not affect\n",
    "        the returned instance.\n",
    "        \"\"\"\n",
    "        if cls not in cls._instances:\n",
    "            instance = super().__call__(*args, **kwargs)\n",
    "            cls._instances[cls] = instance\n",
    "        return cls._instances[cls]\n",
    "\n",
    "\n",
    "class Singleton(metaclass=SingletonMeta):\n",
    "    def some_business_logic(self):\n",
    "        \"\"\"\n",
    "        Finally, any singleton should define some business logic, which can be\n",
    "        executed on its instance.\n",
    "        \"\"\"\n",
    "\n",
    "        # ...\n",
    "\n",
    "\n",
    "if __name__ == \"__main__\":\n",
    "    # The client code.\n",
    "\n",
    "    s1 = Singleton()\n",
    "    s2 = Singleton()\n",
    "\n",
    "    if id(s1) == id(s2):\n",
    "        print(\"Singleton works, both variables contain the same instance.\")\n",
    "    else:\n",
    "        print(\"Singleton failed, variables contain different instances.\")"
   ]
  },
  {
   "cell_type": "code",
   "execution_count": 5,
   "id": "25f9892f-bfc9-4537-a619-181aba7b2394",
   "metadata": {},
   "outputs": [
    {
     "name": "stdout",
     "output_type": "stream",
     "text": [
      "True\n",
      "This is a method of the Singleton class\n"
     ]
    }
   ],
   "source": [
    "class Singleton:\n",
    "    __instance = None\n",
    "\n",
    "    def __new__(cls):\n",
    "        if cls.__instance is None:\n",
    "            cls.__instance = super().__new__(cls)\n",
    "        return cls.__instance\n",
    "\n",
    "    def some_method(self):\n",
    "        print(\"This is a method of the Singleton class\")\n",
    "\n",
    "# Crear una instancia de la clase Singleton\n",
    "singleton_instance_1 = Singleton()\n",
    "\n",
    "# Intentar crear otra instancia de la clase Singleton\n",
    "singleton_instance_2 = Singleton()\n",
    "\n",
    "# Comprobar que ambas variables hacen referencia a la misma instancia de la clase\n",
    "print(singleton_instance_1 is singleton_instance_2) # Output: True\n",
    "\n",
    "# Llamar a un método de la instancia de la clase\n",
    "singleton_instance_1.some_method() # Output: \"This is a method of the Singleton class\""
   ]
  }
 ],
 "metadata": {
  "kernelspec": {
   "display_name": "Python 3 (ipykernel)",
   "language": "python",
   "name": "python3"
  },
  "language_info": {
   "codemirror_mode": {
    "name": "ipython",
    "version": 3
   },
   "file_extension": ".py",
   "mimetype": "text/x-python",
   "name": "python",
   "nbconvert_exporter": "python",
   "pygments_lexer": "ipython3",
   "version": "3.8.15"
  }
 },
 "nbformat": 4,
 "nbformat_minor": 5
}
