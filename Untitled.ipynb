{
 "cells": [
  {
   "cell_type": "code",
   "execution_count": 2,
   "id": "a270fb22-3356-40da-b78e-dfb493494168",
   "metadata": {},
   "outputs": [
    {
     "name": "stdout",
     "output_type": "stream",
     "text": [
      "1\n",
      "None\n",
      "2\n"
     ]
    }
   ],
   "source": [
    "def foo(value):\n",
    "    while True:\n",
    "        value = (yield value)\n",
    "\n",
    "bar = foo(1)\n",
    "print(next(bar))\n",
    "print(next(bar))\n",
    "print(bar.send(2))"
   ]
  },
  {
   "cell_type": "code",
   "execution_count": 14,
   "id": "87075e3b-ee43-421f-b1d8-c67f6efc72b2",
   "metadata": {},
   "outputs": [
    {
     "name": "stdout",
     "output_type": "stream",
     "text": [
      "arg(1)\n"
     ]
    }
   ],
   "source": [
    "args = (1,)\n",
    "print(f\"arg({','.join(list(map(str, args)))})\")"
   ]
  }
 ],
 "metadata": {
  "kernelspec": {
   "display_name": "Python 3 (ipykernel)",
   "language": "python",
   "name": "python3"
  },
  "language_info": {
   "codemirror_mode": {
    "name": "ipython",
    "version": 3
   },
   "file_extension": ".py",
   "mimetype": "text/x-python",
   "name": "python",
   "nbconvert_exporter": "python",
   "pygments_lexer": "ipython3",
   "version": "3.8.15"
  }
 },
 "nbformat": 4,
 "nbformat_minor": 5
}
