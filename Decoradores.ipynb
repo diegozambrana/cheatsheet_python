{
 "cells": [
  {
   "cell_type": "markdown",
   "id": "8abc6d7f-514e-469a-b336-c96db89cf4b1",
   "metadata": {},
   "source": [
    "# Decoradores"
   ]
  },
  {
   "cell_type": "code",
   "execution_count": null,
   "id": "c60107a0-46cc-4d5f-8059-40e1b8674f2e",
   "metadata": {},
   "outputs": [],
   "source": []
  },
  {
   "cell_type": "code",
   "execution_count": 1,
   "id": "e246d949-b399-4f69-b404-3b9c5fb81fde",
   "metadata": {},
   "outputs": [
    {
     "data": {
      "text/plain": [
       "3"
      ]
     },
     "execution_count": 1,
     "metadata": {},
     "output_type": "execute_result"
    }
   ],
   "source": [
    "def add_one(number):\n",
    "    return number + 1\n",
    "\n",
    "add_one(2)"
   ]
  },
  {
   "cell_type": "code",
   "execution_count": 4,
   "id": "d4d5e7c3-4658-4a03-9fca-84cbc2afd760",
   "metadata": {},
   "outputs": [
    {
     "name": "stdout",
     "output_type": "stream",
     "text": [
      "Hello Bob\n",
      "Yo Bob, together we are the awesomest!\n"
     ]
    }
   ],
   "source": [
    "def say_hello(name):\n",
    "    return f\"Hello {name}\"\n",
    "\n",
    "def be_awesome(name):\n",
    "    return f\"Yo {name}, together we are the awesomest!\"\n",
    "\n",
    "def greet_bob(greeter_func):\n",
    "    return greeter_func(\"Bob\")\n",
    "\n",
    "print(greet_bob(say_hello))\n",
    "print(greet_bob(be_awesome))"
   ]
  },
  {
   "cell_type": "code",
   "execution_count": 7,
   "id": "d3e2c13c-b863-4736-a172-7e5909093c4a",
   "metadata": {},
   "outputs": [
    {
     "name": "stdout",
     "output_type": "stream",
     "text": [
      "Hi, I am Emma\n",
      "Call me Liam\n"
     ]
    }
   ],
   "source": [
    "# Returning Functions From Function\n",
    "\n",
    "def parent(num):\n",
    "    def first_child():\n",
    "        return \"Hi, I am Emma\"\n",
    "\n",
    "    def second_child():\n",
    "        return \"Call me Liam\"\n",
    "\n",
    "    if num == 1:\n",
    "        return first_child\n",
    "    else:\n",
    "        return second_child\n",
    "    \n",
    "first = parent(1)\n",
    "second = parent(2)\n",
    "print(first())\n",
    "print(second())"
   ]
  },
  {
   "cell_type": "code",
   "execution_count": 9,
   "id": "60970f4d-7a26-4ea3-99fa-4952fdc97c10",
   "metadata": {},
   "outputs": [
    {
     "name": "stdout",
     "output_type": "stream",
     "text": [
      "Something is happening before the function is called.\n",
      "Whee!\n",
      "Something is happening after the function is called.\n"
     ]
    }
   ],
   "source": [
    "# Decorador simple\n",
    "\n",
    "def my_decorator(func):\n",
    "    def wrapper():\n",
    "        print(\"Something is happening before the function is called.\")\n",
    "        func()\n",
    "        print(\"Something is happening after the function is called.\")\n",
    "    return wrapper\n",
    "\n",
    "def say_whee():\n",
    "    print(\"Whee!\")\n",
    "\n",
    "say_whee = my_decorator(say_whee)\n",
    "say_whee()"
   ]
  },
  {
   "cell_type": "code",
   "execution_count": 10,
   "id": "d3ebdf03-d6e2-4943-8203-18efec8e11aa",
   "metadata": {},
   "outputs": [
    {
     "name": "stdout",
     "output_type": "stream",
     "text": [
      "Whee!\n"
     ]
    }
   ],
   "source": [
    "# another decorator\n",
    "\n",
    "from datetime import datetime\n",
    "\n",
    "def not_during_the_night(func):\n",
    "    def wrapper():\n",
    "        if 7 <= datetime.now().hour < 22:\n",
    "            func()\n",
    "        else:\n",
    "            pass  # Hush, the neighbors are asleep\n",
    "    return wrapper\n",
    "\n",
    "def say_whee():\n",
    "    print(\"Whee!\")\n",
    "\n",
    "say_whee = not_during_the_night(say_whee)\n",
    "say_whee()"
   ]
  },
  {
   "cell_type": "code",
   "execution_count": 11,
   "id": "77d8dcac-c91e-4992-92f8-9e7fe2c7b6f5",
   "metadata": {},
   "outputs": [
    {
     "name": "stdout",
     "output_type": "stream",
     "text": [
      "Something is happening before the function is called.\n",
      "Whee!\n",
      "Something is happening after the function is called.\n"
     ]
    }
   ],
   "source": [
    "# Syntactic Sugar\n",
    "@my_decorator\n",
    "def say_whee():\n",
    "    print(\"Whee!\")\n",
    "\n",
    "say_whee()"
   ]
  },
  {
   "cell_type": "code",
   "execution_count": 13,
   "id": "7d5c3394-8ce0-40e5-b77a-e155355e1185",
   "metadata": {},
   "outputs": [
    {
     "name": "stdout",
     "output_type": "stream",
     "text": [
      "Whee!\n",
      "Whee!\n"
     ]
    }
   ],
   "source": [
    "# reuse again\n",
    "def do_twice(func):\n",
    "    def wrapper_do_twice():\n",
    "        func()\n",
    "        func()\n",
    "    return wrapper_do_twice\n",
    "\n",
    "@do_twice\n",
    "def say_whee():\n",
    "    print(\"Whee!\")\n",
    "\n",
    "say_whee()"
   ]
  },
  {
   "cell_type": "code",
   "execution_count": 14,
   "id": "4ad99bbb-fda3-4688-a67e-9b77c6a89751",
   "metadata": {},
   "outputs": [
    {
     "name": "stdout",
     "output_type": "stream",
     "text": [
      "Whee!\n",
      "Whee!\n",
      "Hello world!\n",
      "Hello world!\n"
     ]
    }
   ],
   "source": [
    "# Decorating Functions With Arguments\n",
    "\n",
    "def do_twice(func):\n",
    "    def wrapper_do_twice(*args, **kwargs):\n",
    "        func(*args, **kwargs)\n",
    "        func(*args, **kwargs)\n",
    "    return wrapper_do_twice\n",
    "\n",
    "@do_twice\n",
    "def say_whee():\n",
    "    print(\"Whee!\")\n",
    "    \n",
    "@do_twice\n",
    "def greet(s):\n",
    "    print(f\"Hello {s}!\")\n",
    "\n",
    "say_whee()\n",
    "greet('world')"
   ]
  },
  {
   "cell_type": "code",
   "execution_count": 16,
   "id": "ded4f154-fbc1-46bc-b84d-b671dedf8a9b",
   "metadata": {},
   "outputs": [
    {
     "name": "stdout",
     "output_type": "stream",
     "text": [
      "Creating greeting\n",
      "Creating greeting\n"
     ]
    },
    {
     "data": {
      "text/plain": [
       "'Hi Adam'"
      ]
     },
     "execution_count": 16,
     "metadata": {},
     "output_type": "execute_result"
    }
   ],
   "source": [
    "# Returning Values From Decorated Functions\n",
    "\n",
    "def do_twice(func):\n",
    "    def wrapper_do_twice(*args, **kwargs):\n",
    "        func(*args, **kwargs)\n",
    "        return func(*args, **kwargs)\n",
    "    return wrapper_do_twice\n",
    "\n",
    "@do_twice\n",
    "def return_greeting(name):\n",
    "    print(\"Creating greeting\")\n",
    "    return f\"Hi {name}\"\n",
    "\n",
    "return_greeting(\"Adam\")"
   ]
  },
  {
   "cell_type": "code",
   "execution_count": null,
   "id": "5909ac4f-6856-4a24-a9ca-6065580ef1a6",
   "metadata": {},
   "outputs": [],
   "source": [
    "# Example \n",
    "\n",
    "import functools\n",
    "\n",
    "def decorator(func):\n",
    "    @functools.wraps(func)\n",
    "    def wrapper_decorator(*args, **kwargs):\n",
    "        # Do something before\n",
    "        value = func(*args, **kwargs)\n",
    "        # Do something after\n",
    "        return value\n",
    "    return wrapper_decorator"
   ]
  },
  {
   "cell_type": "code",
   "execution_count": 17,
   "id": "f4d2712b-ead7-4464-96fe-fbedad923eab",
   "metadata": {},
   "outputs": [
    {
     "name": "stdout",
     "output_type": "stream",
     "text": [
      "Finished 'waste_some_time' in 0.0029 secs\n",
      "None\n",
      "Finished 'waste_some_time' in 1.9042 secs\n",
      "None\n"
     ]
    }
   ],
   "source": [
    "# Timing Functions\n",
    "import functools\n",
    "import time\n",
    "\n",
    "def timer(func):\n",
    "    \"\"\"Print the runtime of the decorated function\"\"\"\n",
    "    @functools.wraps(func)\n",
    "    def wrapper_timer(*args, **kwargs):\n",
    "        start_time = time.perf_counter()    # 1\n",
    "        value = func(*args, **kwargs)\n",
    "        end_time = time.perf_counter()      # 2\n",
    "        run_time = end_time - start_time    # 3\n",
    "        print(f\"Finished {func.__name__!r} in {run_time:.4f} secs\")\n",
    "        return value\n",
    "    return wrapper_timer\n",
    "\n",
    "@timer\n",
    "def waste_some_time(num_times):\n",
    "    for _ in range(num_times):\n",
    "        sum([i**2 for i in range(10000)])\n",
    "    \n",
    "print(waste_some_time(1))\n",
    "print(waste_some_time(999))"
   ]
  },
  {
   "cell_type": "markdown",
   "id": "848275dd-e0c0-46da-ae9b-cc714cca2ef5",
   "metadata": {},
   "source": [
    "## ejericios de decoradores"
   ]
  },
  {
   "cell_type": "code",
   "execution_count": 15,
   "id": "4e0c5e61-6fc3-4248-b5ad-60337e571c9c",
   "metadata": {},
   "outputs": [
    {
     "data": {
      "text/plain": [
       "3628800"
      ]
     },
     "execution_count": 15,
     "metadata": {},
     "output_type": "execute_result"
    }
   ],
   "source": [
    "import functools\n",
    "\n",
    "def cache(limits={}):\n",
    "    def decorator(func):\n",
    "        cache = {}\n",
    "        @functools.wraps(func)\n",
    "        def wrapper(*args, **kwargs):\n",
    "            mod = kwargs.get('mod', None)\n",
    "            if len(args) == 1:\n",
    "                limit = limits.get(0, None)\n",
    "                if limit is not None and args[0] > limit:\n",
    "                    raise ValueError(f\"Input argument at index 0 exceeds the limit of {limit}\")\n",
    "                if args[0] not in cache:\n",
    "                    cache[args[0]] = func(*args, **kwargs)\n",
    "                return cache[args[0]]\n",
    "            elif len(args) == 2:\n",
    "                limit1 = limits.get(0, None)\n",
    "                limit2 = limits.get(1, None)\n",
    "                if limit1 is not None and args[0] > limit1:\n",
    "                    raise ValueError(f\"Input argument at index 0 exceeds the limit of {limit1}\")\n",
    "                if limit2 is not None and args[1] > limit2:\n",
    "                    raise ValueError(f\"Input argument at index 1 exceeds the limit of {limit2}\")\n",
    "                if (args[0], args[1], mod) not in cache:\n",
    "                    cache[(args[0], args[1], mod)] = func(*args, **kwargs)\n",
    "                return cache[(args[0], args[1], mod)]\n",
    "        return wrapper\n",
    "    return decorator\n",
    "\n",
    "@cache(limits={0: 10, 1: 10})\n",
    "def factorial(n, mod=None):\n",
    "    if n == 1:\n",
    "        return 1\n",
    "    return n * factorial(n - 1, mod=mod)\n",
    "\n",
    "factorial(10, 10)"
   ]
  },
  {
   "cell_type": "code",
   "execution_count": 21,
   "id": "5c32f0cb-adeb-46e1-b2f1-11647e7788be",
   "metadata": {},
   "outputs": [
    {
     "data": {
      "text/plain": [
       "\u001b[0;31mInit signature:\u001b[0m \u001b[0mobject\u001b[0m\u001b[0;34m(\u001b[0m\u001b[0;34m)\u001b[0m\u001b[0;34m\u001b[0m\u001b[0;34m\u001b[0m\u001b[0m\n",
       "\u001b[0;31mDocstring:\u001b[0m     \n",
       "The base class of the class hierarchy.\n",
       "\n",
       "When called, it accepts no arguments and returns a new featureless\n",
       "instance that has no instance attributes and cannot be given any.\n",
       "\u001b[0;31mType:\u001b[0m           type\n",
       "\u001b[0;31mSubclasses:\u001b[0m     type, weakref, weakcallableproxy, weakproxy, int, bytearray, bytes, list, NoneType, NotImplementedType, ...\n"
      ]
     },
     "metadata": {},
     "output_type": "display_data"
    }
   ],
   "source": [
    "?object"
   ]
  }
 ],
 "metadata": {
  "kernelspec": {
   "display_name": "Python 3 (ipykernel)",
   "language": "python",
   "name": "python3"
  },
  "language_info": {
   "codemirror_mode": {
    "name": "ipython",
    "version": 3
   },
   "file_extension": ".py",
   "mimetype": "text/x-python",
   "name": "python",
   "nbconvert_exporter": "python",
   "pygments_lexer": "ipython3",
   "version": "3.8.15"
  }
 },
 "nbformat": 4,
 "nbformat_minor": 5
}
