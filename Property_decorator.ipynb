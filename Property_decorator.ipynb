{
 "cells": [
  {
   "cell_type": "markdown",
   "id": "b2cd45a9-e2d4-48d6-b739-9cd168de7f34",
   "metadata": {},
   "source": [
    "# Decorador @property"
   ]
  },
  {
   "cell_type": "code",
   "execution_count": 27,
   "id": "38be4b7d-834f-47e9-8d39-bcb48b3e6e62",
   "metadata": {},
   "outputs": [],
   "source": [
    "class Celsius:\n",
    "     \n",
    "    # Defining init method with its parameter\n",
    "    def __init__(self, temp = 0):\n",
    "        self._temperature = temp\n",
    " \n",
    "    # @property decorator\n",
    "    @property\n",
    "     \n",
    "    # Getter method\n",
    "    def temp(self):\n",
    "         \n",
    "        # Prints the assigned temperature value\n",
    "        print(\"The value of the temperature is: \")\n",
    "        return self._temperature\n",
    " \n",
    "    # Setter method\n",
    "    @temp.setter\n",
    "    def temp(self, val):\n",
    "         \n",
    "        # If temperature is less than -273 than a value\n",
    "        # error is thrown\n",
    "        if val < -273:\n",
    "            raise ValueError(\"It is a value error.\")\n",
    "         \n",
    "        # Prints this if the value of the temperature is set\n",
    "        print(\"The value of the temperature is set.\")\n",
    "        self._temperature = val"
   ]
  },
  {
   "cell_type": "code",
   "execution_count": 28,
   "id": "14bca671-83d4-4455-bc07-425eaf9ee260",
   "metadata": {},
   "outputs": [
    {
     "name": "stdout",
     "output_type": "stream",
     "text": [
      "The value of the temperature is set.\n",
      "The value of the temperature is: \n",
      "-270\n"
     ]
    },
    {
     "ename": "ValueError",
     "evalue": "It is a value error.",
     "output_type": "error",
     "traceback": [
      "\u001b[0;31m---------------------------------------------------------------------------\u001b[0m",
      "\u001b[0;31mValueError\u001b[0m                                Traceback (most recent call last)",
      "Cell \u001b[0;32mIn [28], line 13\u001b[0m\n\u001b[1;32m      8\u001b[0m \u001b[38;5;28mprint\u001b[39m(cel\u001b[38;5;241m.\u001b[39mtemp)\n\u001b[1;32m     10\u001b[0m \u001b[38;5;66;03m# Setting the temperature value to -300\u001b[39;00m\n\u001b[1;32m     11\u001b[0m \u001b[38;5;66;03m# which is not possible so, an error is\u001b[39;00m\n\u001b[1;32m     12\u001b[0m \u001b[38;5;66;03m# thrown\u001b[39;00m\n\u001b[0;32m---> 13\u001b[0m \u001b[43mcel\u001b[49m\u001b[38;5;241;43m.\u001b[39;49m\u001b[43mtemp\u001b[49m \u001b[38;5;241m=\u001b[39m \u001b[38;5;241m-\u001b[39m\u001b[38;5;241m300\u001b[39m\n\u001b[1;32m     14\u001b[0m \u001b[38;5;28mprint\u001b[39m(cel\u001b[38;5;241m.\u001b[39mtemp)\n",
      "Cell \u001b[0;32mIn [27], line 24\u001b[0m, in \u001b[0;36mCelsius.temp\u001b[0;34m(self, val)\u001b[0m\n\u001b[1;32m     18\u001b[0m \u001b[38;5;129m@temp\u001b[39m\u001b[38;5;241m.\u001b[39msetter\n\u001b[1;32m     19\u001b[0m \u001b[38;5;28;01mdef\u001b[39;00m \u001b[38;5;21mtemp\u001b[39m(\u001b[38;5;28mself\u001b[39m, val):\n\u001b[1;32m     20\u001b[0m      \n\u001b[1;32m     21\u001b[0m     \u001b[38;5;66;03m# If temperature is less than -273 than a value\u001b[39;00m\n\u001b[1;32m     22\u001b[0m     \u001b[38;5;66;03m# error is thrown\u001b[39;00m\n\u001b[1;32m     23\u001b[0m     \u001b[38;5;28;01mif\u001b[39;00m val \u001b[38;5;241m<\u001b[39m \u001b[38;5;241m-\u001b[39m\u001b[38;5;241m273\u001b[39m:\n\u001b[0;32m---> 24\u001b[0m         \u001b[38;5;28;01mraise\u001b[39;00m \u001b[38;5;167;01mValueError\u001b[39;00m(\u001b[38;5;124m\"\u001b[39m\u001b[38;5;124mIt is a value error.\u001b[39m\u001b[38;5;124m\"\u001b[39m)\n\u001b[1;32m     26\u001b[0m     \u001b[38;5;66;03m# Prints this if the value of the temperature is set\u001b[39;00m\n\u001b[1;32m     27\u001b[0m     \u001b[38;5;28mprint\u001b[39m(\u001b[38;5;124m\"\u001b[39m\u001b[38;5;124mThe value of the temperature is set.\u001b[39m\u001b[38;5;124m\"\u001b[39m)\n",
      "\u001b[0;31mValueError\u001b[0m: It is a value error."
     ]
    }
   ],
   "source": [
    "# Creating object for the stated class\n",
    "cel = Celsius();\n",
    " \n",
    "# Setting the temperature value\n",
    "cel.temp = -270\n",
    " \n",
    "# Prints the temperature that is set\n",
    "print(cel.temp)\n",
    " \n",
    "# Setting the temperature value to -300\n",
    "# which is not possible so, an error is\n",
    "# thrown\n",
    "cel.temp = -300\n",
    "print(cel.temp)"
   ]
  },
  {
   "cell_type": "code",
   "execution_count": 29,
   "id": "5fa49d7c-f43e-4557-81a4-ff7d655fcdde",
   "metadata": {},
   "outputs": [],
   "source": [
    "class Hero:\n",
    "    \n",
    "    def __init__(self, name):\n",
    "        self.name = name\n",
    "        self._live = 100\n",
    "    \n",
    "    @property\n",
    "    def live(self):\n",
    "        print(f'live of hero {self.name} is:')\n",
    "        return self._live\n",
    "    \n",
    "    @live.setter\n",
    "    def live(self, val):\n",
    "        if val < 0:\n",
    "            raise ValueError(\"hero is already death.\")\n",
    "\n",
    "        print(f'The value of the hero {self.name} live is set.')\n",
    "        self._live = val\n",
    "    \n",
    "\n",
    "hero1 = Hero('Randy')\n",
    "hero2 = Hero('Marshall')"
   ]
  },
  {
   "cell_type": "code",
   "execution_count": 30,
   "id": "9e5da28c-2759-4ce9-96be-7848b10706a5",
   "metadata": {},
   "outputs": [
    {
     "name": "stdout",
     "output_type": "stream",
     "text": [
      "The value of the hero Randy live is set.\n",
      "The value of the hero Marshall live is set.\n"
     ]
    }
   ],
   "source": [
    "hero1.live = 50\n",
    "hero2.live = 30"
   ]
  },
  {
   "cell_type": "code",
   "execution_count": 31,
   "id": "be8bfe1b-a06d-4261-81d2-8c9dc25c90b5",
   "metadata": {},
   "outputs": [
    {
     "name": "stdout",
     "output_type": "stream",
     "text": [
      "live of hero Randy is:\n",
      "50\n",
      "live of hero Marshall is:\n",
      "30\n"
     ]
    }
   ],
   "source": [
    "print(hero1.live)\n",
    "print(hero2.live)"
   ]
  },
  {
   "cell_type": "code",
   "execution_count": 32,
   "id": "5f12d587-8071-48d5-8b9c-ea27aeb4e039",
   "metadata": {},
   "outputs": [
    {
     "name": "stdout",
     "output_type": "stream",
     "text": [
      "live of hero Randy is:\n",
      "The value of the hero Randy live is set.\n"
     ]
    }
   ],
   "source": [
    "hero1.live = hero1.live - 40"
   ]
  },
  {
   "cell_type": "code",
   "execution_count": 33,
   "id": "4a733348-0fb8-45b7-b59e-79cbdf8d70c9",
   "metadata": {},
   "outputs": [
    {
     "name": "stdout",
     "output_type": "stream",
     "text": [
      "live of hero Marshall is:\n"
     ]
    },
    {
     "ename": "ValueError",
     "evalue": "hero is already death.",
     "output_type": "error",
     "traceback": [
      "\u001b[0;31m---------------------------------------------------------------------------\u001b[0m",
      "\u001b[0;31mValueError\u001b[0m                                Traceback (most recent call last)",
      "Cell \u001b[0;32mIn [33], line 1\u001b[0m\n\u001b[0;32m----> 1\u001b[0m \u001b[43mhero2\u001b[49m\u001b[38;5;241;43m.\u001b[39;49m\u001b[43mlive\u001b[49m \u001b[38;5;241m=\u001b[39m hero2\u001b[38;5;241m.\u001b[39mlive \u001b[38;5;241m-\u001b[39m \u001b[38;5;241m40\u001b[39m\n",
      "Cell \u001b[0;32mIn [29], line 15\u001b[0m, in \u001b[0;36mHero.live\u001b[0;34m(self, val)\u001b[0m\n\u001b[1;32m     12\u001b[0m \u001b[38;5;129m@live\u001b[39m\u001b[38;5;241m.\u001b[39msetter\n\u001b[1;32m     13\u001b[0m \u001b[38;5;28;01mdef\u001b[39;00m \u001b[38;5;21mlive\u001b[39m(\u001b[38;5;28mself\u001b[39m, val):\n\u001b[1;32m     14\u001b[0m     \u001b[38;5;28;01mif\u001b[39;00m val \u001b[38;5;241m<\u001b[39m \u001b[38;5;241m0\u001b[39m:\n\u001b[0;32m---> 15\u001b[0m         \u001b[38;5;28;01mraise\u001b[39;00m \u001b[38;5;167;01mValueError\u001b[39;00m(\u001b[38;5;124m\"\u001b[39m\u001b[38;5;124mhero is already death.\u001b[39m\u001b[38;5;124m\"\u001b[39m)\n\u001b[1;32m     17\u001b[0m     \u001b[38;5;28mprint\u001b[39m(\u001b[38;5;124mf\u001b[39m\u001b[38;5;124m'\u001b[39m\u001b[38;5;124mThe value of the hero \u001b[39m\u001b[38;5;132;01m{\u001b[39;00m\u001b[38;5;28mself\u001b[39m\u001b[38;5;241m.\u001b[39mname\u001b[38;5;132;01m}\u001b[39;00m\u001b[38;5;124m live is set.\u001b[39m\u001b[38;5;124m'\u001b[39m)\n\u001b[1;32m     18\u001b[0m     \u001b[38;5;28mself\u001b[39m\u001b[38;5;241m.\u001b[39m_live \u001b[38;5;241m=\u001b[39m val\n",
      "\u001b[0;31mValueError\u001b[0m: hero is already death."
     ]
    }
   ],
   "source": [
    "hero2.live = hero2.live - 40"
   ]
  },
  {
   "cell_type": "code",
   "execution_count": null,
   "id": "499ec96e-7242-4182-b049-f09a9be293b8",
   "metadata": {},
   "outputs": [],
   "source": []
  }
 ],
 "metadata": {
  "kernelspec": {
   "display_name": "Python 3 (ipykernel)",
   "language": "python",
   "name": "python3"
  },
  "language_info": {
   "codemirror_mode": {
    "name": "ipython",
    "version": 3
   },
   "file_extension": ".py",
   "mimetype": "text/x-python",
   "name": "python",
   "nbconvert_exporter": "python",
   "pygments_lexer": "ipython3",
   "version": "3.8.15"
  }
 },
 "nbformat": 4,
 "nbformat_minor": 5
}
